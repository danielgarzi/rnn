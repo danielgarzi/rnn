{
 "cells": [
  {
   "cell_type": "markdown",
   "id": "d024d4a1",
   "metadata": {},
   "source": [
    "Apple Stock Market: https://www.kaggle.com/datasets/meetnagadia/apple-stock-price-from-19802021"
   ]
  },
  {
   "cell_type": "code",
   "execution_count": 1,
   "id": "45c961a0",
   "metadata": {},
   "outputs": [],
   "source": [
    "import numpy as np \n",
    "import pandas as pd \n",
    "import matplotlib.pyplot as plt"
   ]
  },
  {
   "cell_type": "code",
   "execution_count": 2,
   "id": "1de0d6d8",
   "metadata": {
    "scrolled": true
   },
   "outputs": [
    {
     "data": {
      "text/html": [
       "<div>\n",
       "<style scoped>\n",
       "    .dataframe tbody tr th:only-of-type {\n",
       "        vertical-align: middle;\n",
       "    }\n",
       "\n",
       "    .dataframe tbody tr th {\n",
       "        vertical-align: top;\n",
       "    }\n",
       "\n",
       "    .dataframe thead th {\n",
       "        text-align: right;\n",
       "    }\n",
       "</style>\n",
       "<table border=\"1\" class=\"dataframe\">\n",
       "  <thead>\n",
       "    <tr style=\"text-align: right;\">\n",
       "      <th></th>\n",
       "      <th>Date</th>\n",
       "      <th>Open</th>\n",
       "      <th>High</th>\n",
       "      <th>Low</th>\n",
       "      <th>Close</th>\n",
       "      <th>Adj Close</th>\n",
       "      <th>Volume</th>\n",
       "    </tr>\n",
       "  </thead>\n",
       "  <tbody>\n",
       "    <tr>\n",
       "      <th>0</th>\n",
       "      <td>3/1/2005</td>\n",
       "      <td>1.156786</td>\n",
       "      <td>1.162679</td>\n",
       "      <td>1.117857</td>\n",
       "      <td>1.130179</td>\n",
       "      <td>0.966323</td>\n",
       "      <td>691992000</td>\n",
       "    </tr>\n",
       "    <tr>\n",
       "      <th>1</th>\n",
       "      <td>4/1/2005</td>\n",
       "      <td>1.139107</td>\n",
       "      <td>1.169107</td>\n",
       "      <td>1.124464</td>\n",
       "      <td>1.141786</td>\n",
       "      <td>0.976247</td>\n",
       "      <td>1096810400</td>\n",
       "    </tr>\n",
       "    <tr>\n",
       "      <th>2</th>\n",
       "      <td>5/1/2005</td>\n",
       "      <td>1.151071</td>\n",
       "      <td>1.165179</td>\n",
       "      <td>1.143750</td>\n",
       "      <td>1.151786</td>\n",
       "      <td>0.984798</td>\n",
       "      <td>680433600</td>\n",
       "    </tr>\n",
       "    <tr>\n",
       "      <th>3</th>\n",
       "      <td>6/1/2005</td>\n",
       "      <td>1.154821</td>\n",
       "      <td>1.159107</td>\n",
       "      <td>1.130893</td>\n",
       "      <td>1.152679</td>\n",
       "      <td>0.985561</td>\n",
       "      <td>705555200</td>\n",
       "    </tr>\n",
       "    <tr>\n",
       "      <th>4</th>\n",
       "      <td>7/1/2005</td>\n",
       "      <td>1.160714</td>\n",
       "      <td>1.243393</td>\n",
       "      <td>1.156250</td>\n",
       "      <td>1.236607</td>\n",
       "      <td>1.057321</td>\n",
       "      <td>2227450400</td>\n",
       "    </tr>\n",
       "  </tbody>\n",
       "</table>\n",
       "</div>"
      ],
      "text/plain": [
       "       Date      Open      High       Low     Close  Adj Close      Volume\n",
       "0  3/1/2005  1.156786  1.162679  1.117857  1.130179   0.966323   691992000\n",
       "1  4/1/2005  1.139107  1.169107  1.124464  1.141786   0.976247  1096810400\n",
       "2  5/1/2005  1.151071  1.165179  1.143750  1.151786   0.984798   680433600\n",
       "3  6/1/2005  1.154821  1.159107  1.130893  1.152679   0.985561   705555200\n",
       "4  7/1/2005  1.160714  1.243393  1.156250  1.236607   1.057321  2227450400"
      ]
     },
     "execution_count": 2,
     "metadata": {},
     "output_type": "execute_result"
    }
   ],
   "source": [
    "apple = pd.read_csv(\"desktop/Apple/Apple_2005_2019.csv\")\n",
    "apple.head()"
   ]
  },
  {
   "cell_type": "markdown",
   "id": "e2bb8d3f",
   "metadata": {},
   "source": [
    "We will create a new feature called 'Average' that calculates the average between Open and Close. We will build our model using this feature."
   ]
  },
  {
   "cell_type": "code",
   "execution_count": 3,
   "id": "a8a36124",
   "metadata": {},
   "outputs": [
    {
     "data": {
      "text/html": [
       "<div>\n",
       "<style scoped>\n",
       "    .dataframe tbody tr th:only-of-type {\n",
       "        vertical-align: middle;\n",
       "    }\n",
       "\n",
       "    .dataframe tbody tr th {\n",
       "        vertical-align: top;\n",
       "    }\n",
       "\n",
       "    .dataframe thead th {\n",
       "        text-align: right;\n",
       "    }\n",
       "</style>\n",
       "<table border=\"1\" class=\"dataframe\">\n",
       "  <thead>\n",
       "    <tr style=\"text-align: right;\">\n",
       "      <th></th>\n",
       "      <th>Date</th>\n",
       "      <th>Open</th>\n",
       "      <th>High</th>\n",
       "      <th>Low</th>\n",
       "      <th>Close</th>\n",
       "      <th>Adj Close</th>\n",
       "      <th>Volume</th>\n",
       "      <th>Average</th>\n",
       "    </tr>\n",
       "  </thead>\n",
       "  <tbody>\n",
       "    <tr>\n",
       "      <th>0</th>\n",
       "      <td>3/1/2005</td>\n",
       "      <td>1.156786</td>\n",
       "      <td>1.162679</td>\n",
       "      <td>1.117857</td>\n",
       "      <td>1.130179</td>\n",
       "      <td>0.966323</td>\n",
       "      <td>691992000</td>\n",
       "      <td>1.143483</td>\n",
       "    </tr>\n",
       "    <tr>\n",
       "      <th>1</th>\n",
       "      <td>4/1/2005</td>\n",
       "      <td>1.139107</td>\n",
       "      <td>1.169107</td>\n",
       "      <td>1.124464</td>\n",
       "      <td>1.141786</td>\n",
       "      <td>0.976247</td>\n",
       "      <td>1096810400</td>\n",
       "      <td>1.140446</td>\n",
       "    </tr>\n",
       "    <tr>\n",
       "      <th>2</th>\n",
       "      <td>5/1/2005</td>\n",
       "      <td>1.151071</td>\n",
       "      <td>1.165179</td>\n",
       "      <td>1.143750</td>\n",
       "      <td>1.151786</td>\n",
       "      <td>0.984798</td>\n",
       "      <td>680433600</td>\n",
       "      <td>1.151428</td>\n",
       "    </tr>\n",
       "    <tr>\n",
       "      <th>3</th>\n",
       "      <td>6/1/2005</td>\n",
       "      <td>1.154821</td>\n",
       "      <td>1.159107</td>\n",
       "      <td>1.130893</td>\n",
       "      <td>1.152679</td>\n",
       "      <td>0.985561</td>\n",
       "      <td>705555200</td>\n",
       "      <td>1.153750</td>\n",
       "    </tr>\n",
       "    <tr>\n",
       "      <th>4</th>\n",
       "      <td>7/1/2005</td>\n",
       "      <td>1.160714</td>\n",
       "      <td>1.243393</td>\n",
       "      <td>1.156250</td>\n",
       "      <td>1.236607</td>\n",
       "      <td>1.057321</td>\n",
       "      <td>2227450400</td>\n",
       "      <td>1.198660</td>\n",
       "    </tr>\n",
       "  </tbody>\n",
       "</table>\n",
       "</div>"
      ],
      "text/plain": [
       "       Date      Open      High       Low     Close  Adj Close      Volume  \\\n",
       "0  3/1/2005  1.156786  1.162679  1.117857  1.130179   0.966323   691992000   \n",
       "1  4/1/2005  1.139107  1.169107  1.124464  1.141786   0.976247  1096810400   \n",
       "2  5/1/2005  1.151071  1.165179  1.143750  1.151786   0.984798   680433600   \n",
       "3  6/1/2005  1.154821  1.159107  1.130893  1.152679   0.985561   705555200   \n",
       "4  7/1/2005  1.160714  1.243393  1.156250  1.236607   1.057321  2227450400   \n",
       "\n",
       "    Average  \n",
       "0  1.143483  \n",
       "1  1.140446  \n",
       "2  1.151428  \n",
       "3  1.153750  \n",
       "4  1.198660  "
      ]
     },
     "execution_count": 3,
     "metadata": {},
     "output_type": "execute_result"
    }
   ],
   "source": [
    "apple['Average'] = ( apple['Open'] + apple['Close'] ) / 2\n",
    "apple.head()"
   ]
  },
  {
   "cell_type": "code",
   "execution_count": 4,
   "id": "41bb5986",
   "metadata": {},
   "outputs": [
    {
     "data": {
      "text/plain": [
       "<matplotlib.legend.Legend at 0x14571fbb0>"
      ]
     },
     "execution_count": 4,
     "metadata": {},
     "output_type": "execute_result"
    },
    {
     "data": {
      "image/png": "[encoded data removed]",
      "text/plain": [
       "<Figure size 1500x500 with 1 Axes>"
      ]
     },
     "metadata": {},
     "output_type": "display_data"
    }
   ],
   "source": [
    "plt.figure(figsize=(15,5));\n",
    "plt.plot(apple.Open.values, color='blue', label='open')\n",
    "plt.plot(apple.Close.values, color='red', label='close')\n",
    "plt.plot(apple.Average.values, color='green', label='average')\n",
    "plt.title('stock price')\n",
    "plt.xlabel('time [days]')\n",
    "plt.ylabel('price')\n",
    "plt.legend(loc='best')"
   ]
  },
  {
   "cell_type": "markdown",
   "id": "c59d6440",
   "metadata": {},
   "source": [
    "## Split Train and Test\n",
    "\n",
    "If we randomly choose samples for train and test, we might find several train samples similar to the test ones and get high accuracy, but this would be fake. \n",
    "\n",
    "Therefore we will split the train and test set between the first 80% samples and the last 20%."
   ]
  },
  {
   "cell_type": "code",
   "execution_count": 5,
   "id": "b313c2a2",
   "metadata": {},
   "outputs": [
    {
     "name": "stdout",
     "output_type": "stream",
     "text": [
      "3020 train samples, 755 test samples\n"
     ]
    }
   ],
   "source": [
    "test_size = 0.2\n",
    "k = np.round(len(apple)*(1-test_size)).astype(int)\n",
    "apple_train, apple_test = apple[:k], apple[k:]\n",
    "print(\"{} train samples, {} test samples\".format(apple_train.shape[0], apple_test.shape[0]))"
   ]
  },
  {
   "cell_type": "code",
   "execution_count": 6,
   "id": "7939901b",
   "metadata": {},
   "outputs": [
    {
     "data": {
      "text/html": [
       "<div>\n",
       "<style scoped>\n",
       "    .dataframe tbody tr th:only-of-type {\n",
       "        vertical-align: middle;\n",
       "    }\n",
       "\n",
       "    .dataframe tbody tr th {\n",
       "        vertical-align: top;\n",
       "    }\n",
       "\n",
       "    .dataframe thead th {\n",
       "        text-align: right;\n",
       "    }\n",
       "</style>\n",
       "<table border=\"1\" class=\"dataframe\">\n",
       "  <thead>\n",
       "    <tr style=\"text-align: right;\">\n",
       "      <th></th>\n",
       "      <th>Date</th>\n",
       "      <th>Open</th>\n",
       "      <th>High</th>\n",
       "      <th>Low</th>\n",
       "      <th>Close</th>\n",
       "      <th>Adj Close</th>\n",
       "      <th>Volume</th>\n",
       "      <th>Average</th>\n",
       "    </tr>\n",
       "  </thead>\n",
       "  <tbody>\n",
       "    <tr>\n",
       "      <th>0</th>\n",
       "      <td>3/1/2005</td>\n",
       "      <td>1.156786</td>\n",
       "      <td>1.162679</td>\n",
       "      <td>1.117857</td>\n",
       "      <td>1.130179</td>\n",
       "      <td>0.966323</td>\n",
       "      <td>691992000</td>\n",
       "      <td>1.143483</td>\n",
       "    </tr>\n",
       "    <tr>\n",
       "      <th>1</th>\n",
       "      <td>4/1/2005</td>\n",
       "      <td>1.139107</td>\n",
       "      <td>1.169107</td>\n",
       "      <td>1.124464</td>\n",
       "      <td>1.141786</td>\n",
       "      <td>0.976247</td>\n",
       "      <td>1096810400</td>\n",
       "      <td>1.140446</td>\n",
       "    </tr>\n",
       "    <tr>\n",
       "      <th>2</th>\n",
       "      <td>5/1/2005</td>\n",
       "      <td>1.151071</td>\n",
       "      <td>1.165179</td>\n",
       "      <td>1.143750</td>\n",
       "      <td>1.151786</td>\n",
       "      <td>0.984798</td>\n",
       "      <td>680433600</td>\n",
       "      <td>1.151428</td>\n",
       "    </tr>\n",
       "    <tr>\n",
       "      <th>3</th>\n",
       "      <td>6/1/2005</td>\n",
       "      <td>1.154821</td>\n",
       "      <td>1.159107</td>\n",
       "      <td>1.130893</td>\n",
       "      <td>1.152679</td>\n",
       "      <td>0.985561</td>\n",
       "      <td>705555200</td>\n",
       "      <td>1.153750</td>\n",
       "    </tr>\n",
       "    <tr>\n",
       "      <th>4</th>\n",
       "      <td>7/1/2005</td>\n",
       "      <td>1.160714</td>\n",
       "      <td>1.243393</td>\n",
       "      <td>1.156250</td>\n",
       "      <td>1.236607</td>\n",
       "      <td>1.057321</td>\n",
       "      <td>2227450400</td>\n",
       "      <td>1.198660</td>\n",
       "    </tr>\n",
       "  </tbody>\n",
       "</table>\n",
       "</div>"
      ],
      "text/plain": [
       "       Date      Open      High       Low     Close  Adj Close      Volume  \\\n",
       "0  3/1/2005  1.156786  1.162679  1.117857  1.130179   0.966323   691992000   \n",
       "1  4/1/2005  1.139107  1.169107  1.124464  1.141786   0.976247  1096810400   \n",
       "2  5/1/2005  1.151071  1.165179  1.143750  1.151786   0.984798   680433600   \n",
       "3  6/1/2005  1.154821  1.159107  1.130893  1.152679   0.985561   705555200   \n",
       "4  7/1/2005  1.160714  1.243393  1.156250  1.236607   1.057321  2227450400   \n",
       "\n",
       "    Average  \n",
       "0  1.143483  \n",
       "1  1.140446  \n",
       "2  1.151428  \n",
       "3  1.153750  \n",
       "4  1.198660  "
      ]
     },
     "execution_count": 6,
     "metadata": {},
     "output_type": "execute_result"
    }
   ],
   "source": [
    "apple_train.head()"
   ]
  },
  {
   "cell_type": "code",
   "execution_count": 7,
   "id": "e5ef20f3",
   "metadata": {},
   "outputs": [
    {
     "data": {
      "text/plain": [
       "array([[ 1.1434825],\n",
       "       [ 1.1404465],\n",
       "       [ 1.1514285],\n",
       "       ...,\n",
       "       [29.2225   ],\n",
       "       [29.285    ],\n",
       "       [29.1475   ]])"
      ]
     },
     "execution_count": 7,
     "metadata": {},
     "output_type": "execute_result"
    }
   ],
   "source": [
    "average_train = apple_train.iloc[:,7:].values\n",
    "average_train"
   ]
  },
  {
   "cell_type": "code",
   "execution_count": 8,
   "id": "418ff91a",
   "metadata": {},
   "outputs": [
    {
     "data": {
      "text/plain": [
       "array([[9.48800286e-05],\n",
       "       [0.00000000e+00],\n",
       "       [3.43205690e-04],\n",
       "       ...,\n",
       "       [8.77610685e-01],\n",
       "       [8.79563914e-01],\n",
       "       [8.75266811e-01]])"
      ]
     },
     "execution_count": 8,
     "metadata": {},
     "output_type": "execute_result"
    }
   ],
   "source": [
    "from sklearn.preprocessing import MinMaxScaler\n",
    "\n",
    "sc = MinMaxScaler(feature_range = (0,1))\n",
    "apple_scaled = sc.fit_transform(average_train)\n",
    "apple_scaled"
   ]
  },
  {
   "cell_type": "code",
   "execution_count": 9,
   "id": "02d064e9",
   "metadata": {},
   "outputs": [
    {
     "name": "stdout",
     "output_type": "stream",
     "text": [
      "(3019, 1) (3019,)\n"
     ]
    }
   ],
   "source": [
    "x_train = []\n",
    "y_train = []\n",
    "\n",
    "k = 1 \n",
    "lent = apple_scaled.shape[0]\n",
    "\n",
    "for i in range(k,lent):\n",
    "    x_train.append(apple_scaled[i-k:i, 0])\n",
    "    y_train.append(apple_scaled[i,0])\n",
    "x_train,y_train = np.array(x_train),np.array(y_train)\n",
    "\n",
    "print(x_train.shape, y_train.shape)"
   ]
  },
  {
   "cell_type": "code",
   "execution_count": 10,
   "id": "553a09a2",
   "metadata": {},
   "outputs": [],
   "source": [
    "x_train = np.reshape(x_train, (x_train.shape[0],x_train.shape[1],1))"
   ]
  },
  {
   "cell_type": "markdown",
   "id": "4ffb3375",
   "metadata": {},
   "source": [
    "## Baseline: RNN"
   ]
  },
  {
   "cell_type": "code",
   "execution_count": 11,
   "id": "50edb8c3",
   "metadata": {},
   "outputs": [
    {
     "name": "stdout",
     "output_type": "stream",
     "text": [
      "Metal device set to: Apple M1 Max\n"
     ]
    },
    {
     "name": "stderr",
     "output_type": "stream",
     "text": [
      "2022-11-21 20:08:33.079127: I tensorflow/core/common_runtime/pluggable_device/pluggable_device_factory.cc:306] Could not identify NUMA node of platform GPU ID 0, defaulting to 0. Your kernel may not have been built with NUMA support.\n",
      "2022-11-21 20:08:33.079255: I tensorflow/core/common_runtime/pluggable_device/pluggable_device_factory.cc:272] Created TensorFlow device (/job:localhost/replica:0/task:0/device:GPU:0 with 0 MB memory) -> physical PluggableDevice (device: 0, name: METAL, pci bus id: <undefined>)\n"
     ]
    }
   ],
   "source": [
    "from keras.models import Sequential\n",
    "from keras.layers import Dense\n",
    "from keras.layers import SimpleRNN\n",
    "from keras.layers import Dropout\n",
    "\n",
    "apple_rnn = Sequential()\n",
    "apple_rnn.add(SimpleRNN(units = 50,return_sequences = True,input_shape = (x_train.shape[1],1)))"
   ]
  },
  {
   "cell_type": "code",
   "execution_count": 12,
   "id": "66b17b9f",
   "metadata": {},
   "outputs": [],
   "source": [
    "apple_rnn.add(Dropout(0.2))\n",
    "apple_rnn.add(SimpleRNN(units = 50,return_sequences = False))\n",
    "apple_rnn.add(Dropout(0.2))\n",
    "apple_rnn.add(Dense(units = 1))"
   ]
  },
  {
   "cell_type": "code",
   "execution_count": 13,
   "id": "0996cc99",
   "metadata": {
    "scrolled": false
   },
   "outputs": [
    {
     "name": "stdout",
     "output_type": "stream",
     "text": [
      "Epoch 1/100\n"
     ]
    },
    {
     "name": "stderr",
     "output_type": "stream",
     "text": [
      "2022-11-21 20:08:33.231620: W tensorflow/core/platform/profile_utils/cpu_utils.cc:128] Failed to get CPU frequency: 0 Hz\n"
     ]
    },
    {
     "name": "stdout",
     "output_type": "stream",
     "text": [
      " 1/95 [..............................] - ETA: 1:07 - loss: 0.1917"
     ]
    },
    {
     "name": "stderr",
     "output_type": "stream",
     "text": [
      "2022-11-21 20:08:33.804013: I tensorflow/core/grappler/optimizers/custom_graph_optimizer_registry.cc:114] Plugin optimizer for device_type GPU is enabled.\n"
     ]
    },
    {
     "name": "stdout",
     "output_type": "stream",
     "text": [
      "95/95 [==============================] - 1s 5ms/step - loss: 0.0225\n",
      "Epoch 2/100\n",
      "95/95 [==============================] - 0s 4ms/step - loss: 0.0065\n",
      "Epoch 3/100\n",
      "95/95 [==============================] - 0s 4ms/step - loss: 0.0043\n",
      "Epoch 4/100\n",
      "95/95 [==============================] - 0s 4ms/step - loss: 0.0036\n",
      "Epoch 5/100\n",
      "95/95 [==============================] - 0s 4ms/step - loss: 0.0034\n",
      "Epoch 6/100\n",
      "95/95 [==============================] - 0s 4ms/step - loss: 0.0027\n",
      "Epoch 7/100\n",
      "95/95 [==============================] - 0s 4ms/step - loss: 0.0026\n",
      "Epoch 8/100\n",
      "95/95 [==============================] - 0s 4ms/step - loss: 0.0025\n",
      "Epoch 9/100\n",
      "95/95 [==============================] - 0s 4ms/step - loss: 0.0022\n",
      "Epoch 10/100\n",
      "95/95 [==============================] - 0s 4ms/step - loss: 0.0021\n",
      "Epoch 11/100\n",
      "95/95 [==============================] - 0s 4ms/step - loss: 0.0018\n",
      "Epoch 12/100\n",
      "95/95 [==============================] - 0s 4ms/step - loss: 0.0018\n",
      "Epoch 13/100\n",
      "95/95 [==============================] - 0s 4ms/step - loss: 0.0017\n",
      "Epoch 14/100\n",
      "95/95 [==============================] - 0s 4ms/step - loss: 0.0017\n",
      "Epoch 15/100\n",
      "95/95 [==============================] - 0s 4ms/step - loss: 0.0016\n",
      "Epoch 16/100\n",
      "95/95 [==============================] - 0s 4ms/step - loss: 0.0016\n",
      "Epoch 17/100\n",
      "95/95 [==============================] - 0s 4ms/step - loss: 0.0016\n",
      "Epoch 18/100\n",
      "95/95 [==============================] - 0s 4ms/step - loss: 0.0016\n",
      "Epoch 19/100\n",
      "95/95 [==============================] - 0s 4ms/step - loss: 0.0016\n",
      "Epoch 20/100\n",
      "95/95 [==============================] - 0s 4ms/step - loss: 0.0014\n",
      "Epoch 21/100\n",
      "95/95 [==============================] - 0s 4ms/step - loss: 0.0016\n",
      "Epoch 22/100\n",
      "95/95 [==============================] - 0s 4ms/step - loss: 0.0014\n",
      "Epoch 23/100\n",
      "95/95 [==============================] - 0s 4ms/step - loss: 0.0014\n",
      "Epoch 24/100\n",
      "95/95 [==============================] - 0s 4ms/step - loss: 0.0013\n",
      "Epoch 25/100\n",
      "95/95 [==============================] - 0s 4ms/step - loss: 0.0013\n",
      "Epoch 26/100\n",
      "95/95 [==============================] - 0s 4ms/step - loss: 0.0013\n",
      "Epoch 27/100\n",
      "95/95 [==============================] - 0s 4ms/step - loss: 0.0013\n",
      "Epoch 28/100\n",
      "95/95 [==============================] - 0s 4ms/step - loss: 0.0013\n",
      "Epoch 29/100\n",
      "95/95 [==============================] - 0s 4ms/step - loss: 0.0013\n",
      "Epoch 30/100\n",
      "95/95 [==============================] - 0s 4ms/step - loss: 0.0012\n",
      "Epoch 31/100\n",
      "95/95 [==============================] - 0s 4ms/step - loss: 0.0012\n",
      "Epoch 32/100\n",
      "95/95 [==============================] - 0s 4ms/step - loss: 0.0012\n",
      "Epoch 33/100\n",
      "95/95 [==============================] - 0s 4ms/step - loss: 0.0012\n",
      "Epoch 34/100\n",
      "95/95 [==============================] - 0s 4ms/step - loss: 0.0012\n",
      "Epoch 35/100\n",
      "95/95 [==============================] - 0s 4ms/step - loss: 0.0012\n",
      "Epoch 36/100\n",
      "95/95 [==============================] - 0s 4ms/step - loss: 0.0012\n",
      "Epoch 37/100\n",
      "95/95 [==============================] - 0s 4ms/step - loss: 0.0012\n",
      "Epoch 38/100\n",
      "95/95 [==============================] - 0s 4ms/step - loss: 0.0012\n",
      "Epoch 39/100\n",
      "95/95 [==============================] - 0s 4ms/step - loss: 0.0012\n",
      "Epoch 40/100\n",
      "95/95 [==============================] - 0s 4ms/step - loss: 0.0011\n",
      "Epoch 41/100\n",
      "95/95 [==============================] - 0s 4ms/step - loss: 0.0012\n",
      "Epoch 42/100\n",
      "95/95 [==============================] - 0s 4ms/step - loss: 0.0011\n",
      "Epoch 43/100\n",
      "95/95 [==============================] - 0s 4ms/step - loss: 0.0010\n",
      "Epoch 44/100\n",
      "95/95 [==============================] - 0s 4ms/step - loss: 0.0011\n",
      "Epoch 45/100\n",
      "95/95 [==============================] - 0s 4ms/step - loss: 0.0011\n",
      "Epoch 46/100\n",
      "95/95 [==============================] - 0s 4ms/step - loss: 0.0012\n",
      "Epoch 47/100\n",
      "95/95 [==============================] - 0s 4ms/step - loss: 0.0011\n",
      "Epoch 48/100\n",
      "95/95 [==============================] - 0s 4ms/step - loss: 0.0011\n",
      "Epoch 49/100\n",
      "95/95 [==============================] - 0s 4ms/step - loss: 0.0012\n",
      "Epoch 50/100\n",
      "95/95 [==============================] - 0s 4ms/step - loss: 0.0011\n",
      "Epoch 51/100\n",
      "95/95 [==============================] - 0s 4ms/step - loss: 0.0010\n",
      "Epoch 52/100\n",
      "95/95 [==============================] - 0s 4ms/step - loss: 0.0011\n",
      "Epoch 53/100\n",
      "95/95 [==============================] - 0s 4ms/step - loss: 0.0012\n",
      "Epoch 54/100\n",
      "95/95 [==============================] - 0s 4ms/step - loss: 0.0011\n",
      "Epoch 55/100\n",
      "95/95 [==============================] - 0s 4ms/step - loss: 0.0011\n",
      "Epoch 56/100\n",
      "95/95 [==============================] - 0s 4ms/step - loss: 0.0011\n",
      "Epoch 57/100\n",
      "95/95 [==============================] - 0s 4ms/step - loss: 0.0010\n",
      "Epoch 58/100\n",
      "95/95 [==============================] - 0s 4ms/step - loss: 0.0011\n",
      "Epoch 59/100\n",
      "95/95 [==============================] - 0s 4ms/step - loss: 0.0011\n",
      "Epoch 60/100\n",
      "95/95 [==============================] - 0s 4ms/step - loss: 0.0012\n",
      "Epoch 61/100\n",
      "95/95 [==============================] - 0s 4ms/step - loss: 0.0011\n",
      "Epoch 62/100\n",
      "95/95 [==============================] - 0s 4ms/step - loss: 0.0011\n",
      "Epoch 63/100\n",
      "95/95 [==============================] - 0s 4ms/step - loss: 0.0011\n",
      "Epoch 64/100\n",
      "95/95 [==============================] - 0s 4ms/step - loss: 0.0012\n",
      "Epoch 65/100\n",
      "95/95 [==============================] - 0s 4ms/step - loss: 0.0011\n",
      "Epoch 66/100\n",
      "95/95 [==============================] - 0s 4ms/step - loss: 9.7274e-04\n",
      "Epoch 67/100\n",
      "95/95 [==============================] - 0s 4ms/step - loss: 9.9490e-04\n",
      "Epoch 68/100\n",
      "95/95 [==============================] - 0s 4ms/step - loss: 0.0010\n",
      "Epoch 69/100\n",
      "95/95 [==============================] - 0s 4ms/step - loss: 9.9720e-04\n",
      "Epoch 70/100\n",
      "95/95 [==============================] - 0s 4ms/step - loss: 0.0010\n",
      "Epoch 71/100\n",
      "95/95 [==============================] - 0s 4ms/step - loss: 0.0011\n",
      "Epoch 72/100\n",
      "95/95 [==============================] - 0s 4ms/step - loss: 0.0010\n",
      "Epoch 73/100\n",
      "95/95 [==============================] - 0s 4ms/step - loss: 0.0011\n",
      "Epoch 74/100\n",
      "95/95 [==============================] - 0s 4ms/step - loss: 0.0011\n",
      "Epoch 75/100\n",
      "95/95 [==============================] - 0s 4ms/step - loss: 0.0010\n",
      "Epoch 76/100\n",
      "95/95 [==============================] - 0s 4ms/step - loss: 0.0010\n",
      "Epoch 77/100\n",
      "95/95 [==============================] - 0s 4ms/step - loss: 0.0010\n",
      "Epoch 78/100\n",
      "95/95 [==============================] - 0s 4ms/step - loss: 0.0011\n",
      "Epoch 79/100\n",
      "95/95 [==============================] - 0s 4ms/step - loss: 9.9989e-04\n",
      "Epoch 80/100\n",
      "95/95 [==============================] - 0s 4ms/step - loss: 0.0010\n",
      "Epoch 81/100\n",
      "95/95 [==============================] - 0s 4ms/step - loss: 0.0010\n",
      "Epoch 82/100\n",
      "95/95 [==============================] - 0s 4ms/step - loss: 9.7641e-04\n",
      "Epoch 83/100\n",
      "95/95 [==============================] - 0s 4ms/step - loss: 0.0010\n",
      "Epoch 84/100\n",
      "95/95 [==============================] - 0s 4ms/step - loss: 0.0011\n",
      "Epoch 85/100\n",
      "95/95 [==============================] - 0s 4ms/step - loss: 0.0010\n",
      "Epoch 86/100\n",
      "95/95 [==============================] - 0s 4ms/step - loss: 9.9193e-04\n",
      "Epoch 87/100\n",
      "95/95 [==============================] - 0s 4ms/step - loss: 0.0010\n",
      "Epoch 88/100\n",
      "95/95 [==============================] - 0s 4ms/step - loss: 0.0010\n",
      "Epoch 89/100\n",
      "95/95 [==============================] - 0s 4ms/step - loss: 0.0012\n",
      "Epoch 90/100\n",
      "95/95 [==============================] - 0s 4ms/step - loss: 0.0010\n",
      "Epoch 91/100\n",
      "95/95 [==============================] - 0s 4ms/step - loss: 9.7822e-04\n",
      "Epoch 92/100\n",
      "95/95 [==============================] - 0s 4ms/step - loss: 0.0010\n",
      "Epoch 93/100\n",
      "95/95 [==============================] - 0s 4ms/step - loss: 0.0011\n",
      "Epoch 94/100\n",
      "95/95 [==============================] - 0s 4ms/step - loss: 0.0010\n",
      "Epoch 95/100\n",
      "95/95 [==============================] - 0s 4ms/step - loss: 0.0011\n",
      "Epoch 96/100\n",
      "95/95 [==============================] - 0s 4ms/step - loss: 0.0010\n",
      "Epoch 97/100\n",
      "95/95 [==============================] - 0s 4ms/step - loss: 0.0011\n",
      "Epoch 98/100\n",
      "95/95 [==============================] - 0s 4ms/step - loss: 0.0011\n",
      "Epoch 99/100\n",
      "95/95 [==============================] - 0s 4ms/step - loss: 0.0011\n",
      "Epoch 100/100\n",
      "95/95 [==============================] - 0s 4ms/step - loss: 0.0010\n"
     ]
    }
   ],
   "source": [
    "import tensorflow as tf\n",
    "\n",
    "apple_rnn.compile(optimizer = 'adam',loss = 'mean_squared_error')\n",
    "\n",
    "with tf.device('/cpu:0'):\n",
    "    apple_rnn.fit(x_train,y_train,epochs = 100, batch_size = 32)"
   ]
  },
  {
   "cell_type": "code",
   "execution_count": 14,
   "id": "d89d6d8f",
   "metadata": {},
   "outputs": [],
   "source": [
    "real_stock_apple = apple_test.iloc[:,7:].values"
   ]
  },
  {
   "cell_type": "code",
   "execution_count": 15,
   "id": "efe8c757",
   "metadata": {},
   "outputs": [],
   "source": [
    "dataset_total = apple['Average']\n",
    "\n",
    "inputs = dataset_total[len(dataset_total) - len(apple_test)-k:].values"
   ]
  },
  {
   "cell_type": "code",
   "execution_count": 16,
   "id": "b4a1f854",
   "metadata": {},
   "outputs": [],
   "source": [
    "inputs = inputs.reshape(-1,1)\n",
    "inputs = sc.transform(inputs)"
   ]
  },
  {
   "cell_type": "code",
   "execution_count": 17,
   "id": "d3cc7477",
   "metadata": {},
   "outputs": [
    {
     "data": {
      "text/plain": [
       "(754, 1)"
      ]
     },
     "execution_count": 17,
     "metadata": {},
     "output_type": "execute_result"
    }
   ],
   "source": [
    "x_test = []\n",
    "\n",
    "lent2 = apple_test.shape[0]\n",
    "\n",
    "for i in range(k,lent2):\n",
    "    x_test.append(inputs[i-k:i,0])\n",
    "    \n",
    "x_test = np.array(x_test)\n",
    "x_test.shape"
   ]
  },
  {
   "cell_type": "code",
   "execution_count": 18,
   "id": "b49483ba",
   "metadata": {},
   "outputs": [
    {
     "data": {
      "text/plain": [
       "(754, 1, 1)"
      ]
     },
     "execution_count": 18,
     "metadata": {},
     "output_type": "execute_result"
    }
   ],
   "source": [
    "x_test = np.reshape(x_test, (x_test.shape[0],x_test.shape[1],1))\n",
    "x_test.shape"
   ]
  },
  {
   "cell_type": "markdown",
   "id": "0316fa87",
   "metadata": {},
   "source": [
    "## RNN Prediction"
   ]
  },
  {
   "cell_type": "code",
   "execution_count": 19,
   "id": "83f1d7cb",
   "metadata": {},
   "outputs": [
    {
     "name": "stdout",
     "output_type": "stream",
     "text": [
      "24/24 [==============================] - 0s 6ms/step\n"
     ]
    },
    {
     "name": "stderr",
     "output_type": "stream",
     "text": [
      "2022-11-21 20:09:15.970435: I tensorflow/core/grappler/optimizers/custom_graph_optimizer_registry.cc:114] Plugin optimizer for device_type GPU is enabled.\n"
     ]
    }
   ],
   "source": [
    "predicted_price = apple_rnn.predict(x_test)"
   ]
  },
  {
   "cell_type": "code",
   "execution_count": 20,
   "id": "4caa7bef",
   "metadata": {},
   "outputs": [
    {
     "data": {
      "text/plain": [
       "(754, 1)"
      ]
     },
     "execution_count": 20,
     "metadata": {},
     "output_type": "execute_result"
    }
   ],
   "source": [
    "predicted_price.shape"
   ]
  },
  {
   "cell_type": "code",
   "execution_count": 21,
   "id": "d9ab82ed",
   "metadata": {},
   "outputs": [],
   "source": [
    "predicted_price = sc.inverse_transform(predicted_price)"
   ]
  },
  {
   "cell_type": "code",
   "execution_count": 22,
   "id": "168e4b95",
   "metadata": {},
   "outputs": [
    {
     "data": {
      "image/png": "[encoded data removed]",
      "text/plain": [
       "<Figure size 640x480 with 1 Axes>"
      ]
     },
     "metadata": {},
     "output_type": "display_data"
    }
   ],
   "source": [
    "plt.plot(real_stock_apple,color = 'red', label = 'Real Price')\n",
    "plt.plot(predicted_price, color = 'blue', label = 'Predicted Price')\n",
    "plt.title('Apple Stock Price Prediction')\n",
    "plt.xlabel('Time')\n",
    "plt.ylabel('Apple Stock Price')\n",
    "plt.legend()\n",
    "plt.show()"
   ]
  },
  {
   "cell_type": "code",
   "execution_count": 23,
   "id": "482b7399",
   "metadata": {},
   "outputs": [
    {
     "data": {
      "text/plain": [
       "(755, 1)"
      ]
     },
     "execution_count": 23,
     "metadata": {},
     "output_type": "execute_result"
    }
   ],
   "source": [
    "real_stock_apple.shape"
   ]
  },
  {
   "cell_type": "code",
   "execution_count": 24,
   "id": "3ed26f0a",
   "metadata": {},
   "outputs": [
    {
     "name": "stdout",
     "output_type": "stream",
     "text": [
      "0.8943320267298761\n"
     ]
    }
   ],
   "source": [
    "from sklearn.metrics import r2_score\n",
    "\n",
    "real_stock_apple = real_stock_apple[:(len(real_stock_apple)-k)]\n",
    "\n",
    "for i in range(real_stock_apple.shape[1]):\n",
    "    print(r2_score(real_stock_apple[:, i], predicted_price[:, i]))"
   ]
  },
  {
   "cell_type": "markdown",
   "id": "52fd28fa",
   "metadata": {},
   "source": [
    "## Experiment 1 LSTM"
   ]
  },
  {
   "cell_type": "code",
   "execution_count": 25,
   "id": "5b766a7a",
   "metadata": {},
   "outputs": [],
   "source": [
    "from keras.layers import LSTM\n",
    "\n",
    "apple_lstm = Sequential()\n",
    "apple_lstm.add(LSTM(units = 50,return_sequences = True,input_shape = (x_train.shape[1],1)))"
   ]
  },
  {
   "cell_type": "code",
   "execution_count": 26,
   "id": "a69e0cce",
   "metadata": {},
   "outputs": [],
   "source": [
    "apple_lstm.add(Dropout(0.2))\n",
    "apple_lstm.add(LSTM(units = 50,return_sequences = False))\n",
    "apple_lstm.add(Dropout(0.2))\n",
    "apple_lstm.add(Dense(units = 1))"
   ]
  },
  {
   "cell_type": "code",
   "execution_count": 27,
   "id": "3762cdf7",
   "metadata": {
    "scrolled": false
   },
   "outputs": [
    {
     "name": "stdout",
     "output_type": "stream",
     "text": [
      "Epoch 1/100\n"
     ]
    },
    {
     "name": "stderr",
     "output_type": "stream",
     "text": [
      "2022-11-21 20:09:17.714567: I tensorflow/core/grappler/optimizers/custom_graph_optimizer_registry.cc:114] Plugin optimizer for device_type GPU is enabled.\n"
     ]
    },
    {
     "name": "stdout",
     "output_type": "stream",
     "text": [
      "95/95 [==============================] - 2s 4ms/step - loss: 0.0853\n",
      "Epoch 2/100\n",
      "95/95 [==============================] - 0s 4ms/step - loss: 0.0068\n",
      "Epoch 3/100\n",
      "95/95 [==============================] - 0s 4ms/step - loss: 0.0032\n",
      "Epoch 4/100\n",
      "95/95 [==============================] - 0s 4ms/step - loss: 0.0029\n",
      "Epoch 5/100\n",
      "95/95 [==============================] - 0s 4ms/step - loss: 0.0026\n",
      "Epoch 6/100\n",
      "95/95 [==============================] - 0s 4ms/step - loss: 0.0023\n",
      "Epoch 7/100\n",
      "95/95 [==============================] - 0s 4ms/step - loss: 0.0021\n",
      "Epoch 8/100\n",
      "95/95 [==============================] - 0s 4ms/step - loss: 0.0019\n",
      "Epoch 9/100\n",
      "95/95 [==============================] - 0s 4ms/step - loss: 0.0018\n",
      "Epoch 10/100\n",
      "95/95 [==============================] - 0s 4ms/step - loss: 0.0018\n",
      "Epoch 11/100\n",
      "95/95 [==============================] - 0s 4ms/step - loss: 0.0018\n",
      "Epoch 12/100\n",
      "95/95 [==============================] - 0s 4ms/step - loss: 0.0017\n",
      "Epoch 13/100\n",
      "95/95 [==============================] - 0s 4ms/step - loss: 0.0016\n",
      "Epoch 14/100\n",
      "95/95 [==============================] - 0s 4ms/step - loss: 0.0015\n",
      "Epoch 15/100\n",
      "95/95 [==============================] - 0s 4ms/step - loss: 0.0015\n",
      "Epoch 16/100\n",
      "95/95 [==============================] - 0s 4ms/step - loss: 0.0015\n",
      "Epoch 17/100\n",
      "95/95 [==============================] - 0s 4ms/step - loss: 0.0016\n",
      "Epoch 18/100\n",
      "95/95 [==============================] - 0s 4ms/step - loss: 0.0015\n",
      "Epoch 19/100\n",
      "95/95 [==============================] - 0s 4ms/step - loss: 0.0014\n",
      "Epoch 20/100\n",
      "95/95 [==============================] - 0s 4ms/step - loss: 0.0014\n",
      "Epoch 21/100\n",
      "95/95 [==============================] - 0s 4ms/step - loss: 0.0013\n",
      "Epoch 22/100\n",
      "95/95 [==============================] - 0s 4ms/step - loss: 0.0014\n",
      "Epoch 23/100\n",
      "95/95 [==============================] - 0s 4ms/step - loss: 0.0014\n",
      "Epoch 24/100\n",
      "95/95 [==============================] - 0s 4ms/step - loss: 0.0013\n",
      "Epoch 25/100\n",
      "95/95 [==============================] - 0s 4ms/step - loss: 0.0013\n",
      "Epoch 26/100\n",
      "95/95 [==============================] - 0s 4ms/step - loss: 0.0013\n",
      "Epoch 27/100\n",
      "95/95 [==============================] - 0s 4ms/step - loss: 0.0012\n",
      "Epoch 28/100\n",
      "95/95 [==============================] - 0s 4ms/step - loss: 0.0012\n",
      "Epoch 29/100\n",
      "95/95 [==============================] - 0s 4ms/step - loss: 0.0012\n",
      "Epoch 30/100\n",
      "95/95 [==============================] - 0s 4ms/step - loss: 0.0012\n",
      "Epoch 31/100\n",
      "95/95 [==============================] - 0s 4ms/step - loss: 0.0012\n",
      "Epoch 32/100\n",
      "95/95 [==============================] - 0s 4ms/step - loss: 0.0012\n",
      "Epoch 33/100\n",
      "95/95 [==============================] - 0s 4ms/step - loss: 0.0012\n",
      "Epoch 34/100\n",
      "95/95 [==============================] - 0s 4ms/step - loss: 0.0012\n",
      "Epoch 35/100\n",
      "95/95 [==============================] - 0s 4ms/step - loss: 0.0012\n",
      "Epoch 36/100\n",
      "95/95 [==============================] - 0s 4ms/step - loss: 0.0011\n",
      "Epoch 37/100\n",
      "95/95 [==============================] - 0s 4ms/step - loss: 0.0011\n",
      "Epoch 38/100\n",
      "95/95 [==============================] - 0s 4ms/step - loss: 0.0013\n",
      "Epoch 39/100\n",
      "95/95 [==============================] - 0s 4ms/step - loss: 0.0011\n",
      "Epoch 40/100\n",
      "95/95 [==============================] - 0s 4ms/step - loss: 0.0011\n",
      "Epoch 41/100\n",
      "95/95 [==============================] - 0s 4ms/step - loss: 0.0011\n",
      "Epoch 42/100\n",
      "95/95 [==============================] - 0s 4ms/step - loss: 0.0011\n",
      "Epoch 43/100\n",
      "95/95 [==============================] - 0s 4ms/step - loss: 0.0012\n",
      "Epoch 44/100\n",
      "95/95 [==============================] - 0s 4ms/step - loss: 0.0011\n",
      "Epoch 45/100\n",
      "95/95 [==============================] - 0s 4ms/step - loss: 0.0011\n",
      "Epoch 46/100\n",
      "95/95 [==============================] - 0s 4ms/step - loss: 0.0011\n",
      "Epoch 47/100\n",
      "95/95 [==============================] - 0s 4ms/step - loss: 0.0011\n",
      "Epoch 48/100\n",
      "95/95 [==============================] - 0s 4ms/step - loss: 0.0010\n",
      "Epoch 49/100\n",
      "95/95 [==============================] - 0s 4ms/step - loss: 0.0011\n",
      "Epoch 50/100\n",
      "95/95 [==============================] - 0s 4ms/step - loss: 0.0010\n",
      "Epoch 51/100\n",
      "95/95 [==============================] - 0s 4ms/step - loss: 0.0011\n",
      "Epoch 52/100\n",
      "95/95 [==============================] - 0s 4ms/step - loss: 9.9052e-04\n",
      "Epoch 53/100\n",
      "95/95 [==============================] - 0s 4ms/step - loss: 0.0010\n",
      "Epoch 54/100\n",
      "95/95 [==============================] - 0s 4ms/step - loss: 0.0010\n",
      "Epoch 55/100\n",
      "95/95 [==============================] - 0s 4ms/step - loss: 9.9594e-04\n",
      "Epoch 56/100\n",
      "95/95 [==============================] - 0s 4ms/step - loss: 0.0010\n",
      "Epoch 57/100\n",
      "95/95 [==============================] - 0s 4ms/step - loss: 0.0010\n",
      "Epoch 58/100\n",
      "95/95 [==============================] - 0s 4ms/step - loss: 0.0010\n",
      "Epoch 59/100\n",
      "95/95 [==============================] - 0s 4ms/step - loss: 9.8468e-04\n",
      "Epoch 60/100\n",
      "95/95 [==============================] - 0s 4ms/step - loss: 0.0010\n",
      "Epoch 61/100\n",
      "95/95 [==============================] - 0s 4ms/step - loss: 9.5674e-04\n",
      "Epoch 62/100\n",
      "95/95 [==============================] - 0s 4ms/step - loss: 0.0010\n",
      "Epoch 63/100\n",
      "95/95 [==============================] - 0s 4ms/step - loss: 0.0010\n",
      "Epoch 64/100\n",
      "95/95 [==============================] - 0s 4ms/step - loss: 0.0010\n",
      "Epoch 65/100\n",
      "95/95 [==============================] - 0s 4ms/step - loss: 9.9133e-04\n",
      "Epoch 66/100\n",
      "95/95 [==============================] - 0s 4ms/step - loss: 9.5662e-04\n",
      "Epoch 67/100\n",
      "95/95 [==============================] - 0s 4ms/step - loss: 9.4235e-04\n",
      "Epoch 68/100\n",
      "95/95 [==============================] - 0s 4ms/step - loss: 9.2201e-04\n",
      "Epoch 69/100\n",
      "95/95 [==============================] - 0s 4ms/step - loss: 9.9706e-04\n",
      "Epoch 70/100\n",
      "95/95 [==============================] - 0s 4ms/step - loss: 0.0010\n",
      "Epoch 71/100\n",
      "95/95 [==============================] - 0s 4ms/step - loss: 9.9587e-04\n",
      "Epoch 72/100\n",
      "95/95 [==============================] - 0s 4ms/step - loss: 9.8229e-04\n",
      "Epoch 73/100\n",
      "95/95 [==============================] - 0s 4ms/step - loss: 9.4019e-04\n",
      "Epoch 74/100\n",
      "95/95 [==============================] - 0s 4ms/step - loss: 9.7780e-04\n",
      "Epoch 75/100\n",
      "95/95 [==============================] - 0s 4ms/step - loss: 9.0760e-04\n",
      "Epoch 76/100\n",
      "95/95 [==============================] - 0s 4ms/step - loss: 9.7800e-04\n",
      "Epoch 77/100\n",
      "95/95 [==============================] - 0s 4ms/step - loss: 9.2996e-04\n",
      "Epoch 78/100\n",
      "95/95 [==============================] - 0s 4ms/step - loss: 9.3433e-04\n",
      "Epoch 79/100\n",
      "95/95 [==============================] - 0s 4ms/step - loss: 9.8926e-04\n",
      "Epoch 80/100\n",
      "95/95 [==============================] - 0s 4ms/step - loss: 9.3545e-04\n",
      "Epoch 81/100\n",
      "95/95 [==============================] - 0s 4ms/step - loss: 9.6886e-04\n",
      "Epoch 82/100\n",
      "95/95 [==============================] - 0s 4ms/step - loss: 9.0796e-04\n",
      "Epoch 83/100\n",
      "95/95 [==============================] - 0s 4ms/step - loss: 9.4303e-04\n",
      "Epoch 84/100\n",
      "95/95 [==============================] - 0s 4ms/step - loss: 0.0010\n",
      "Epoch 85/100\n",
      "95/95 [==============================] - 0s 4ms/step - loss: 9.8892e-04\n",
      "Epoch 86/100\n",
      "95/95 [==============================] - 0s 4ms/step - loss: 9.6791e-04\n",
      "Epoch 87/100\n",
      "95/95 [==============================] - 0s 4ms/step - loss: 9.1647e-04\n",
      "Epoch 88/100\n",
      "95/95 [==============================] - 0s 4ms/step - loss: 9.7727e-04\n",
      "Epoch 89/100\n",
      "95/95 [==============================] - 0s 4ms/step - loss: 0.0011\n",
      "Epoch 90/100\n",
      "95/95 [==============================] - 0s 4ms/step - loss: 0.0010\n",
      "Epoch 91/100\n",
      "95/95 [==============================] - 0s 5ms/step - loss: 9.2718e-04\n",
      "Epoch 92/100\n",
      "95/95 [==============================] - 0s 4ms/step - loss: 0.0010\n",
      "Epoch 93/100\n",
      "95/95 [==============================] - 0s 4ms/step - loss: 9.1944e-04\n",
      "Epoch 94/100\n",
      "95/95 [==============================] - 0s 4ms/step - loss: 9.2261e-04\n",
      "Epoch 95/100\n",
      "95/95 [==============================] - 0s 4ms/step - loss: 9.2377e-04\n",
      "Epoch 96/100\n",
      "95/95 [==============================] - 0s 4ms/step - loss: 9.5055e-04\n",
      "Epoch 97/100\n",
      "95/95 [==============================] - 0s 4ms/step - loss: 9.4539e-04\n",
      "Epoch 98/100\n",
      "95/95 [==============================] - 0s 4ms/step - loss: 9.1711e-04\n",
      "Epoch 99/100\n",
      "95/95 [==============================] - 0s 4ms/step - loss: 9.1197e-04\n",
      "Epoch 100/100\n",
      "95/95 [==============================] - 0s 4ms/step - loss: 9.4327e-04\n"
     ]
    }
   ],
   "source": [
    "apple_lstm.compile(optimizer = 'adam',loss = 'mean_squared_error')\n",
    "\n",
    "with tf.device('/cpu:0'):\n",
    "    apple_lstm.fit(x_train,y_train,epochs = 100, batch_size = 32)"
   ]
  },
  {
   "cell_type": "code",
   "execution_count": 28,
   "id": "43bf3c2c",
   "metadata": {},
   "outputs": [
    {
     "name": "stdout",
     "output_type": "stream",
     "text": [
      "24/24 [==============================] - 1s 3ms/step\n"
     ]
    },
    {
     "name": "stderr",
     "output_type": "stream",
     "text": [
      "2022-11-21 20:09:57.617688: I tensorflow/core/grappler/optimizers/custom_graph_optimizer_registry.cc:114] Plugin optimizer for device_type GPU is enabled.\n",
      "2022-11-21 20:09:57.665369: I tensorflow/core/grappler/optimizers/custom_graph_optimizer_registry.cc:114] Plugin optimizer for device_type GPU is enabled.\n",
      "2022-11-21 20:09:57.691751: I tensorflow/core/grappler/optimizers/custom_graph_optimizer_registry.cc:114] Plugin optimizer for device_type GPU is enabled.\n"
     ]
    }
   ],
   "source": [
    "predicted_price_lstm = apple_lstm.predict(x_test)"
   ]
  },
  {
   "cell_type": "code",
   "execution_count": 29,
   "id": "3f70912e",
   "metadata": {},
   "outputs": [],
   "source": [
    "predicted_price_lstm = sc.inverse_transform(predicted_price_lstm)"
   ]
  },
  {
   "cell_type": "code",
   "execution_count": 30,
   "id": "7909a96e",
   "metadata": {},
   "outputs": [
    {
     "data": {
      "image/png": "[encoded data removed]",
      "text/plain": [
       "<Figure size 640x480 with 1 Axes>"
      ]
     },
     "metadata": {},
     "output_type": "display_data"
    }
   ],
   "source": [
    "plt.plot(real_stock_apple,color = 'red', label = 'Real Price')\n",
    "plt.plot(predicted_price_lstm, color = 'blue', label = 'Predicted Price')\n",
    "plt.title('Apple Stock Price Prediction')\n",
    "plt.xlabel('Time')\n",
    "plt.ylabel('Apple Stock Price')\n",
    "plt.legend()\n",
    "plt.show()"
   ]
  },
  {
   "cell_type": "code",
   "execution_count": 31,
   "id": "6b908696",
   "metadata": {},
   "outputs": [
    {
     "name": "stdout",
     "output_type": "stream",
     "text": [
      "0.1460723358988939\n"
     ]
    }
   ],
   "source": [
    "for i in range(real_stock_apple.shape[1]):\n",
    "    print(r2_score(real_stock_apple[:, i], predicted_price_lstm[:, i]))"
   ]
  },
  {
   "cell_type": "markdown",
   "id": "81605c8d",
   "metadata": {},
   "source": [
    "## Experiment 2 LSTM - No Dropouts"
   ]
  },
  {
   "cell_type": "code",
   "execution_count": 52,
   "id": "ca9568e0",
   "metadata": {},
   "outputs": [],
   "source": [
    "apple_lstm_2 = Sequential()\n",
    "apple_lstm_2.add(LSTM(units = 50,return_sequences = True,input_shape = (x_train.shape[1],1)))"
   ]
  },
  {
   "cell_type": "code",
   "execution_count": 53,
   "id": "02d3aed7",
   "metadata": {},
   "outputs": [],
   "source": [
    "apple_lstm_2.add(LSTM(units = 50,return_sequences = False))\n",
    "apple_lstm_2.add(Dense(units = 1))"
   ]
  },
  {
   "cell_type": "code",
   "execution_count": 54,
   "id": "7a76a107",
   "metadata": {
    "scrolled": false
   },
   "outputs": [
    {
     "name": "stdout",
     "output_type": "stream",
     "text": [
      "Epoch 1/100\n"
     ]
    },
    {
     "name": "stderr",
     "output_type": "stream",
     "text": [
      "2022-11-21 20:30:58.948517: I tensorflow/core/grappler/optimizers/custom_graph_optimizer_registry.cc:114] Plugin optimizer for device_type GPU is enabled.\n"
     ]
    },
    {
     "name": "stdout",
     "output_type": "stream",
     "text": [
      "95/95 [==============================] - 2s 4ms/step - loss: 0.0973\n",
      "Epoch 2/100\n",
      "95/95 [==============================] - 0s 4ms/step - loss: 0.0055\n",
      "Epoch 3/100\n",
      "95/95 [==============================] - 0s 4ms/step - loss: 5.6867e-04\n",
      "Epoch 4/100\n",
      "95/95 [==============================] - 0s 4ms/step - loss: 4.5155e-04\n",
      "Epoch 5/100\n",
      "95/95 [==============================] - 0s 4ms/step - loss: 3.4153e-04\n",
      "Epoch 6/100\n",
      "95/95 [==============================] - 0s 4ms/step - loss: 2.4534e-04\n",
      "Epoch 7/100\n",
      "95/95 [==============================] - 0s 4ms/step - loss: 1.6918e-04\n",
      "Epoch 8/100\n",
      "95/95 [==============================] - 0s 4ms/step - loss: 1.1437e-04\n",
      "Epoch 9/100\n",
      "95/95 [==============================] - 0s 4ms/step - loss: 8.1485e-05\n",
      "Epoch 10/100\n",
      "95/95 [==============================] - 0s 4ms/step - loss: 6.3541e-05\n",
      "Epoch 11/100\n",
      "95/95 [==============================] - 0s 4ms/step - loss: 5.6568e-05\n",
      "Epoch 12/100\n",
      "95/95 [==============================] - 0s 4ms/step - loss: 5.5052e-05\n",
      "Epoch 13/100\n",
      "95/95 [==============================] - 0s 4ms/step - loss: 5.2775e-05\n",
      "Epoch 14/100\n",
      "95/95 [==============================] - 0s 4ms/step - loss: 5.3874e-05\n",
      "Epoch 15/100\n",
      "95/95 [==============================] - 0s 4ms/step - loss: 5.3048e-05\n",
      "Epoch 16/100\n",
      "95/95 [==============================] - 0s 4ms/step - loss: 5.3837e-05\n",
      "Epoch 17/100\n",
      "95/95 [==============================] - 0s 4ms/step - loss: 5.2499e-05\n",
      "Epoch 18/100\n",
      "95/95 [==============================] - 0s 4ms/step - loss: 5.3277e-05\n",
      "Epoch 19/100\n",
      "95/95 [==============================] - 0s 4ms/step - loss: 5.2430e-05\n",
      "Epoch 20/100\n",
      "95/95 [==============================] - 0s 4ms/step - loss: 5.3659e-05\n",
      "Epoch 21/100\n",
      "95/95 [==============================] - 0s 4ms/step - loss: 5.4942e-05\n",
      "Epoch 22/100\n",
      "95/95 [==============================] - 0s 4ms/step - loss: 5.3598e-05\n",
      "Epoch 23/100\n",
      "95/95 [==============================] - 0s 4ms/step - loss: 5.4897e-05\n",
      "Epoch 24/100\n",
      "95/95 [==============================] - 0s 4ms/step - loss: 5.5488e-05\n",
      "Epoch 25/100\n",
      "95/95 [==============================] - 0s 4ms/step - loss: 5.3439e-05\n",
      "Epoch 26/100\n",
      "95/95 [==============================] - 0s 4ms/step - loss: 5.5708e-05\n",
      "Epoch 27/100\n",
      "95/95 [==============================] - 0s 4ms/step - loss: 5.7466e-05\n",
      "Epoch 28/100\n",
      "95/95 [==============================] - 0s 4ms/step - loss: 5.3833e-05\n",
      "Epoch 29/100\n",
      "95/95 [==============================] - 0s 4ms/step - loss: 5.6025e-05\n",
      "Epoch 30/100\n",
      "95/95 [==============================] - 0s 4ms/step - loss: 5.4087e-05\n",
      "Epoch 31/100\n",
      "95/95 [==============================] - 0s 4ms/step - loss: 5.4368e-05\n",
      "Epoch 32/100\n",
      "95/95 [==============================] - 0s 4ms/step - loss: 5.7645e-05\n",
      "Epoch 33/100\n",
      "95/95 [==============================] - 0s 4ms/step - loss: 5.7249e-05\n",
      "Epoch 34/100\n",
      "95/95 [==============================] - 0s 4ms/step - loss: 5.7133e-05\n",
      "Epoch 35/100\n",
      "95/95 [==============================] - 0s 4ms/step - loss: 5.6276e-05\n",
      "Epoch 36/100\n",
      "95/95 [==============================] - 0s 4ms/step - loss: 5.5308e-05\n",
      "Epoch 37/100\n",
      "95/95 [==============================] - 0s 4ms/step - loss: 5.8660e-05\n",
      "Epoch 38/100\n",
      "95/95 [==============================] - 0s 4ms/step - loss: 5.6722e-05\n",
      "Epoch 39/100\n",
      "95/95 [==============================] - 0s 4ms/step - loss: 6.6454e-05\n",
      "Epoch 40/100\n",
      "95/95 [==============================] - 0s 4ms/step - loss: 5.4815e-05\n",
      "Epoch 41/100\n",
      "95/95 [==============================] - 0s 4ms/step - loss: 5.5288e-05\n",
      "Epoch 42/100\n",
      "95/95 [==============================] - 0s 4ms/step - loss: 6.1391e-05\n",
      "Epoch 43/100\n",
      "95/95 [==============================] - 0s 4ms/step - loss: 6.3169e-05\n",
      "Epoch 44/100\n",
      "95/95 [==============================] - 0s 4ms/step - loss: 6.6915e-05\n",
      "Epoch 45/100\n",
      "95/95 [==============================] - 0s 4ms/step - loss: 6.5526e-05\n",
      "Epoch 46/100\n",
      "95/95 [==============================] - 0s 4ms/step - loss: 5.8455e-05\n",
      "Epoch 47/100\n",
      "95/95 [==============================] - 0s 4ms/step - loss: 5.7198e-05\n",
      "Epoch 48/100\n",
      "95/95 [==============================] - 0s 4ms/step - loss: 5.5334e-05\n",
      "Epoch 49/100\n",
      "95/95 [==============================] - 0s 4ms/step - loss: 5.5703e-05\n",
      "Epoch 50/100\n",
      "95/95 [==============================] - 0s 4ms/step - loss: 5.9288e-05\n",
      "Epoch 51/100\n",
      "95/95 [==============================] - 0s 4ms/step - loss: 6.4226e-05\n",
      "Epoch 52/100\n",
      "95/95 [==============================] - 0s 4ms/step - loss: 5.7623e-05\n",
      "Epoch 53/100\n",
      "95/95 [==============================] - 0s 4ms/step - loss: 5.7348e-05\n",
      "Epoch 54/100\n",
      "95/95 [==============================] - 0s 4ms/step - loss: 5.8113e-05\n",
      "Epoch 55/100\n",
      "95/95 [==============================] - 0s 4ms/step - loss: 5.5361e-05\n",
      "Epoch 56/100\n",
      "95/95 [==============================] - 0s 4ms/step - loss: 6.2664e-05\n",
      "Epoch 57/100\n",
      "95/95 [==============================] - 0s 4ms/step - loss: 5.8658e-05\n",
      "Epoch 58/100\n",
      "95/95 [==============================] - 0s 4ms/step - loss: 5.7652e-05\n",
      "Epoch 59/100\n",
      "95/95 [==============================] - 0s 4ms/step - loss: 6.3310e-05\n",
      "Epoch 60/100\n",
      "95/95 [==============================] - 0s 4ms/step - loss: 6.3272e-05\n",
      "Epoch 61/100\n",
      "95/95 [==============================] - 0s 4ms/step - loss: 5.8899e-05\n",
      "Epoch 62/100\n",
      "95/95 [==============================] - 0s 4ms/step - loss: 5.9426e-05\n",
      "Epoch 63/100\n",
      "95/95 [==============================] - 0s 4ms/step - loss: 6.5397e-05\n",
      "Epoch 64/100\n",
      "95/95 [==============================] - 0s 4ms/step - loss: 5.9143e-05\n",
      "Epoch 65/100\n",
      "95/95 [==============================] - 0s 4ms/step - loss: 5.8389e-05\n",
      "Epoch 66/100\n",
      "95/95 [==============================] - 0s 4ms/step - loss: 6.0170e-05\n",
      "Epoch 67/100\n",
      "95/95 [==============================] - 0s 4ms/step - loss: 5.6733e-05\n",
      "Epoch 68/100\n",
      "95/95 [==============================] - 0s 4ms/step - loss: 5.5411e-05\n",
      "Epoch 69/100\n",
      "95/95 [==============================] - 0s 4ms/step - loss: 5.5015e-05\n",
      "Epoch 70/100\n",
      "95/95 [==============================] - 0s 4ms/step - loss: 6.3014e-05\n",
      "Epoch 71/100\n",
      "95/95 [==============================] - 0s 4ms/step - loss: 5.6917e-05\n",
      "Epoch 72/100\n",
      "95/95 [==============================] - 0s 4ms/step - loss: 5.8880e-05\n",
      "Epoch 73/100\n",
      "95/95 [==============================] - 0s 4ms/step - loss: 6.8645e-05\n",
      "Epoch 74/100\n",
      "95/95 [==============================] - 0s 4ms/step - loss: 5.6968e-05\n",
      "Epoch 75/100\n",
      "95/95 [==============================] - 0s 4ms/step - loss: 5.6292e-05\n",
      "Epoch 76/100\n",
      "95/95 [==============================] - 0s 4ms/step - loss: 6.1965e-05\n",
      "Epoch 77/100\n",
      "95/95 [==============================] - 0s 4ms/step - loss: 6.1346e-05\n",
      "Epoch 78/100\n",
      "95/95 [==============================] - 0s 4ms/step - loss: 6.4141e-05\n",
      "Epoch 79/100\n",
      "95/95 [==============================] - 0s 4ms/step - loss: 6.1551e-05\n",
      "Epoch 80/100\n",
      "95/95 [==============================] - 0s 4ms/step - loss: 6.9901e-05\n",
      "Epoch 81/100\n",
      "95/95 [==============================] - 0s 4ms/step - loss: 5.9817e-05\n",
      "Epoch 82/100\n",
      "95/95 [==============================] - 0s 4ms/step - loss: 6.8410e-05\n",
      "Epoch 83/100\n",
      "95/95 [==============================] - 0s 4ms/step - loss: 6.5968e-05\n",
      "Epoch 84/100\n",
      "95/95 [==============================] - 0s 4ms/step - loss: 6.0216e-05\n",
      "Epoch 85/100\n",
      "95/95 [==============================] - 0s 4ms/step - loss: 5.8935e-05\n",
      "Epoch 86/100\n",
      "95/95 [==============================] - 0s 4ms/step - loss: 6.2860e-05\n",
      "Epoch 87/100\n",
      "95/95 [==============================] - 0s 4ms/step - loss: 5.8402e-05\n",
      "Epoch 88/100\n",
      "95/95 [==============================] - 0s 4ms/step - loss: 5.6867e-05\n",
      "Epoch 89/100\n",
      "95/95 [==============================] - 0s 4ms/step - loss: 5.5947e-05\n",
      "Epoch 90/100\n",
      "95/95 [==============================] - 0s 4ms/step - loss: 5.8004e-05\n",
      "Epoch 91/100\n",
      "95/95 [==============================] - 0s 4ms/step - loss: 5.6387e-05\n",
      "Epoch 92/100\n",
      "95/95 [==============================] - 0s 4ms/step - loss: 6.5132e-05\n",
      "Epoch 93/100\n",
      "95/95 [==============================] - 0s 4ms/step - loss: 6.2231e-05\n",
      "Epoch 94/100\n",
      "95/95 [==============================] - 0s 4ms/step - loss: 5.6792e-05\n",
      "Epoch 95/100\n",
      "95/95 [==============================] - 0s 4ms/step - loss: 5.6470e-05\n",
      "Epoch 96/100\n",
      "95/95 [==============================] - 0s 4ms/step - loss: 5.9217e-05\n",
      "Epoch 97/100\n",
      "95/95 [==============================] - 0s 4ms/step - loss: 5.9653e-05\n",
      "Epoch 98/100\n",
      "95/95 [==============================] - 0s 4ms/step - loss: 5.8124e-05\n",
      "Epoch 99/100\n",
      "95/95 [==============================] - 0s 4ms/step - loss: 5.6912e-05\n",
      "Epoch 100/100\n",
      "95/95 [==============================] - 0s 4ms/step - loss: 5.9632e-05\n"
     ]
    }
   ],
   "source": [
    "apple_lstm_2.compile(optimizer = 'adam',loss = 'mean_squared_error')\n",
    "\n",
    "with tf.device('/cpu:0'):\n",
    "    apple_lstm_2.fit(x_train,y_train,epochs = 100, batch_size = 32)"
   ]
  },
  {
   "cell_type": "code",
   "execution_count": 55,
   "id": "5a082441",
   "metadata": {},
   "outputs": [
    {
     "name": "stdout",
     "output_type": "stream",
     "text": [
      "24/24 [==============================] - 1s 3ms/step\n"
     ]
    },
    {
     "name": "stderr",
     "output_type": "stream",
     "text": [
      "2022-11-21 20:31:42.063794: I tensorflow/core/grappler/optimizers/custom_graph_optimizer_registry.cc:114] Plugin optimizer for device_type GPU is enabled.\n",
      "2022-11-21 20:31:42.111951: I tensorflow/core/grappler/optimizers/custom_graph_optimizer_registry.cc:114] Plugin optimizer for device_type GPU is enabled.\n",
      "2022-11-21 20:31:42.134861: I tensorflow/core/grappler/optimizers/custom_graph_optimizer_registry.cc:114] Plugin optimizer for device_type GPU is enabled.\n"
     ]
    }
   ],
   "source": [
    "predicted_price_lstm_2 = apple_lstm_2.predict(x_test)"
   ]
  },
  {
   "cell_type": "code",
   "execution_count": 56,
   "id": "f268c87a",
   "metadata": {},
   "outputs": [],
   "source": [
    "predicted_price_lstm_2 = sc.inverse_transform(predicted_price_lstm_2)"
   ]
  },
  {
   "cell_type": "code",
   "execution_count": 57,
   "id": "3c498288",
   "metadata": {},
   "outputs": [
    {
     "data": {
      "image/png": "[encoded data removed]",
      "text/plain": [
       "<Figure size 640x480 with 1 Axes>"
      ]
     },
     "metadata": {},
     "output_type": "display_data"
    }
   ],
   "source": [
    "plt.plot(real_stock_apple,color = 'red', label = 'Real Price')\n",
    "plt.plot(predicted_price_lstm_2, color = 'blue', label = 'Predicted Price')\n",
    "plt.title('Apple Stock Price Prediction')\n",
    "plt.xlabel('Time')\n",
    "plt.ylabel('Apple Stock Price')\n",
    "plt.legend()\n",
    "plt.show()"
   ]
  },
  {
   "cell_type": "code",
   "execution_count": 58,
   "id": "bd2039cc",
   "metadata": {},
   "outputs": [
    {
     "name": "stdout",
     "output_type": "stream",
     "text": [
      "0.9811742529412535\n"
     ]
    }
   ],
   "source": [
    "for i in range(real_stock_apple.shape[1]):\n",
    "    print(r2_score(real_stock_apple[:, i], predicted_price_lstm_2[:, i]))"
   ]
  }
 ],
 "metadata": {
  "kernelspec": {
   "display_name": "Python 3 (ipykernel)",
   "language": "python",
   "name": "python3"
  },
  "language_info": {
   "codemirror_mode": {
    "name": "ipython",
    "version": 3
   },
   "file_extension": ".py",
   "mimetype": "text/x-python",
   "name": "python",
   "nbconvert_exporter": "python",
   "pygments_lexer": "ipython3",
   "version": "3.9.12"
  }
 },
 "nbformat": 4,
 "nbformat_minor": 5
}
